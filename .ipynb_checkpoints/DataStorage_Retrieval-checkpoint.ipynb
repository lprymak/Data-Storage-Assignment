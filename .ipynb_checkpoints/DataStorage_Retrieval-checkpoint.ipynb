{
 "cells": [
  {
   "cell_type": "code",
   "execution_count": 1,
   "metadata": {},
   "outputs": [],
   "source": [
    "%matplotlib inline\n",
    "from matplotlib import style\n",
    "style.use('fivethirtyeight')\n",
    "import matplotlib.pyplot as plt\n",
    "\n",
    "import numpy as np\n",
    "import pandas as pd\n",
    "\n",
    "# import datetime as dt\n",
    "import datetime"
   ]
  },
  {
   "cell_type": "markdown",
   "metadata": {},
   "source": [
    "# Reflect Tables into SQLAlchemy ORM"
   ]
  },
  {
   "cell_type": "code",
   "execution_count": 2,
   "metadata": {},
   "outputs": [],
   "source": [
    "# Python SQL toolkit and Object Relational Mapper\n",
    "import sqlalchemy\n",
    "from sqlalchemy.ext.automap import automap_base\n",
    "from sqlalchemy.orm import Session\n",
    "from sqlalchemy import create_engine, func, inspect, distinct"
   ]
  },
  {
   "cell_type": "code",
   "execution_count": 3,
   "metadata": {},
   "outputs": [],
   "source": [
    "engine = create_engine(\"sqlite:///Resources/hawaii.sqlite\")"
   ]
  },
  {
   "cell_type": "code",
   "execution_count": 4,
   "metadata": {},
   "outputs": [],
   "source": [
    "# Reflect the Hawaii database into a new model\n",
    "Base = automap_base()\n",
    "# Reflect the tables\n",
    "Base.prepare(engine, reflect=True)"
   ]
  },
  {
   "cell_type": "code",
   "execution_count": 5,
   "metadata": {},
   "outputs": [
    {
     "data": {
      "text/plain": [
       "['measurement', 'station']"
      ]
     },
     "execution_count": 5,
     "metadata": {},
     "output_type": "execute_result"
    }
   ],
   "source": [
    "# View all classes the automap found\n",
    "Base.classes.keys()"
   ]
  },
  {
   "cell_type": "code",
   "execution_count": 6,
   "metadata": {},
   "outputs": [],
   "source": [
    "# Save references to each table\n",
    "Measurement = Base.classes.measurement\n",
    "Station = Base.classes.station"
   ]
  },
  {
   "cell_type": "code",
   "execution_count": 7,
   "metadata": {},
   "outputs": [],
   "source": [
    "# Create session (link) from Python to the Hawaii database\n",
    "sess = Session(engine)\n",
    "inspector = inspect(engine)"
   ]
  },
  {
   "cell_type": "code",
   "execution_count": 8,
   "metadata": {},
   "outputs": [
    {
     "name": "stdout",
     "output_type": "stream",
     "text": [
      "id INTEGER\n",
      "station TEXT\n",
      "date TEXT\n",
      "prcp FLOAT\n",
      "tobs FLOAT\n"
     ]
    }
   ],
   "source": [
    "# View columns and datatypes in each class\n",
    "columns = inspector.get_columns('measurement')\n",
    "for column in columns:\n",
    "    print(column[\"name\"], column[\"type\"])\n",
    "    \n",
    "# columns = inspector.get_columns('station')\n",
    "# for column in columns:\n",
    "#     print(column[\"name\"], column[\"type\"])"
   ]
  },
  {
   "cell_type": "code",
   "execution_count": 9,
   "metadata": {},
   "outputs": [],
   "source": [
    "# Set the start and end date of the trip\n",
    "trip_start_date = '2019-11-15'\n",
    "trip_end_date = '2019-11-23'"
   ]
  },
  {
   "cell_type": "markdown",
   "metadata": {},
   "source": [
    "# Exploratory Climate Analysis"
   ]
  },
  {
   "cell_type": "code",
   "execution_count": 10,
   "metadata": {},
   "outputs": [
    {
     "data": {
      "text/html": [
       "<div>\n",
       "<style scoped>\n",
       "    .dataframe tbody tr th:only-of-type {\n",
       "        vertical-align: middle;\n",
       "    }\n",
       "\n",
       "    .dataframe tbody tr th {\n",
       "        vertical-align: top;\n",
       "    }\n",
       "\n",
       "    .dataframe thead th {\n",
       "        text-align: right;\n",
       "    }\n",
       "</style>\n",
       "<table border=\"1\" class=\"dataframe\">\n",
       "  <thead>\n",
       "    <tr style=\"text-align: right;\">\n",
       "      <th></th>\n",
       "      <th>Stations</th>\n",
       "      <th>Precipitation</th>\n",
       "    </tr>\n",
       "    <tr>\n",
       "      <th>Dates</th>\n",
       "      <th></th>\n",
       "      <th></th>\n",
       "    </tr>\n",
       "  </thead>\n",
       "  <tbody>\n",
       "    <tr>\n",
       "      <th>2017-08-23</th>\n",
       "      <td>USC00516128</td>\n",
       "      <td>0.45</td>\n",
       "    </tr>\n",
       "    <tr>\n",
       "      <th>2017-08-23</th>\n",
       "      <td>USC00519523</td>\n",
       "      <td>0.08</td>\n",
       "    </tr>\n",
       "    <tr>\n",
       "      <th>2017-08-23</th>\n",
       "      <td>USC00514830</td>\n",
       "      <td>0.00</td>\n",
       "    </tr>\n",
       "    <tr>\n",
       "      <th>2017-08-23</th>\n",
       "      <td>USC00519397</td>\n",
       "      <td>0.00</td>\n",
       "    </tr>\n",
       "    <tr>\n",
       "      <th>2017-08-22</th>\n",
       "      <td>USC00519523</td>\n",
       "      <td>0.00</td>\n",
       "    </tr>\n",
       "  </tbody>\n",
       "</table>\n",
       "</div>"
      ],
      "text/plain": [
       "               Stations  Precipitation\n",
       "Dates                                 \n",
       "2017-08-23  USC00516128           0.45\n",
       "2017-08-23  USC00519523           0.08\n",
       "2017-08-23  USC00514830           0.00\n",
       "2017-08-23  USC00519397           0.00\n",
       "2017-08-22  USC00519523           0.00"
      ]
     },
     "execution_count": 10,
     "metadata": {},
     "output_type": "execute_result"
    }
   ],
   "source": [
    "# Find last recorded day and one year before\n",
    "last_date = sess.query(Measurement.date).order_by(Measurement.date.desc()).first()\n",
    "last_day = pd.to_datetime(last_date[0], yearfirst=True, infer_datetime_format=True).date()\n",
    "\n",
    "#  Determine if need to include leap year addition\n",
    "if (last_day.year % 4 == 0 and last_day.month < 3) or ((last_day.year + 1) % 4 == 0 and last_day.month > 3):\n",
    "    last_year = last_day - datetime.timedelta(days=366)\n",
    "else:\n",
    "    last_year = last_day - datetime.timedelta(days=365)\n",
    "    \n",
    "# Format dates to be used\n",
    "day1 = last_day.strftime(\"%Y-%m-%d\")\n",
    "day2 = last_year.strftime(\"%Y-%m-%d\")\n",
    "\n",
    "# Query data using span of the two dates found previously\n",
    "last_year_data = sess.query(Measurement).\\\n",
    "    filter(Measurement.date >= day2).all()\n",
    "\n",
    "# Store tob data and dates in lists and create dictionary\n",
    "dates_prcp = [x.date for x in last_year_data]\n",
    "sta_prcp = [x.station for x in last_year_data]\n",
    "prcp = [x.prcp for x in last_year_data]\n",
    "\n",
    "# Save the query results as a Pandas DataFrame and set the index to the date column\n",
    "latest_data_df = pd.DataFrame({'Dates':dates_prcp, 'Stations':sta_prcp, 'Precipitation':prcp})\n",
    "\n",
    "# Sort the dataframe by date\n",
    "latest_data_df = latest_data_df.sort_values('Dates', ascending = False)\n",
    "latest_data_df = latest_data_df.set_index('Dates')\n",
    "latest_data_df.head()"
   ]
  },
  {
   "cell_type": "code",
   "execution_count": 11,
   "metadata": {},
   "outputs": [],
   "source": [
    "# Prep data for graph\n",
    "latest_prcp_df = latest_data_df.drop('Stations', axis=1)\n",
    "\n",
    "n = len(latest_prcp_df)\n",
    "date_index = [x for x in np.arange(0,n,int(n/4))]\n",
    "date_i = [(n-1)-x for x in date_index]\n",
    "x_dates = [latest_prcp_df.index[x] for x in date_i[0:4]]"
   ]
  },
  {
   "cell_type": "code",
   "execution_count": 12,
   "metadata": {},
   "outputs": [
    {
     "data": {
      "image/png": "[encoded data removed]",
      "text/plain": [
       "<Figure size 864x576 with 1 Axes>"
      ]
     },
     "metadata": {
      "needs_background": "light"
     },
     "output_type": "display_data"
    }
   ],
   "source": [
    "# Use Pandas Plotting with Matplotlib to plot the data\n",
    "fig = plt.gcf()\n",
    "fig.set_size_inches(12,8)\n",
    "\n",
    "plt.bar(latest_prcp_df.index, latest_prcp_df.Precipitation, width=1.2, facecolor = None)\n",
    "plt.tick_params(labelbottom=False)\n",
    "plt.xlabel(\"Dates\")\n",
    "\n",
    "plt.grid(b=True,axis='both', which='major')\n",
    "plt.ylim(0,7)\n",
    "\n",
    "plt.xticks(x_dates)\n",
    "plt.xlim(('2017-08-23', '2010-01-01'))\n",
    "plt.gca().invert_xaxis()\n",
    "plt.legend(labels=['Precipitation'])\n",
    "plt.show()"
   ]
  },
  {
   "cell_type": "code",
   "execution_count": 13,
   "metadata": {},
   "outputs": [
    {
     "data": {
      "text/html": [
       "<div>\n",
       "<style scoped>\n",
       "    .dataframe tbody tr th:only-of-type {\n",
       "        vertical-align: middle;\n",
       "    }\n",
       "\n",
       "    .dataframe tbody tr th {\n",
       "        vertical-align: top;\n",
       "    }\n",
       "\n",
       "    .dataframe thead th {\n",
       "        text-align: right;\n",
       "    }\n",
       "</style>\n",
       "<table border=\"1\" class=\"dataframe\">\n",
       "  <thead>\n",
       "    <tr style=\"text-align: right;\">\n",
       "      <th></th>\n",
       "      <th>Precipitation</th>\n",
       "    </tr>\n",
       "  </thead>\n",
       "  <tbody>\n",
       "    <tr>\n",
       "      <th>count</th>\n",
       "      <td>2021.000000</td>\n",
       "    </tr>\n",
       "    <tr>\n",
       "      <th>mean</th>\n",
       "      <td>0.177279</td>\n",
       "    </tr>\n",
       "    <tr>\n",
       "      <th>std</th>\n",
       "      <td>0.461190</td>\n",
       "    </tr>\n",
       "    <tr>\n",
       "      <th>min</th>\n",
       "      <td>0.000000</td>\n",
       "    </tr>\n",
       "    <tr>\n",
       "      <th>25%</th>\n",
       "      <td>0.000000</td>\n",
       "    </tr>\n",
       "    <tr>\n",
       "      <th>50%</th>\n",
       "      <td>0.020000</td>\n",
       "    </tr>\n",
       "    <tr>\n",
       "      <th>75%</th>\n",
       "      <td>0.130000</td>\n",
       "    </tr>\n",
       "    <tr>\n",
       "      <th>max</th>\n",
       "      <td>6.700000</td>\n",
       "    </tr>\n",
       "  </tbody>\n",
       "</table>\n",
       "</div>"
      ],
      "text/plain": [
       "       Precipitation\n",
       "count    2021.000000\n",
       "mean        0.177279\n",
       "std         0.461190\n",
       "min         0.000000\n",
       "25%         0.000000\n",
       "50%         0.020000\n",
       "75%         0.130000\n",
       "max         6.700000"
      ]
     },
     "execution_count": 13,
     "metadata": {},
     "output_type": "execute_result"
    }
   ],
   "source": [
    "# Calcualte the summary statistics for the precipitation data\n",
    "latest_prcp_df.describe()"
   ]
  },
  {
   "cell_type": "code",
   "execution_count": 14,
   "metadata": {},
   "outputs": [],
   "source": [
    "# Design a query to show how many stations are available in this dataset?\n",
    "number_of_stations = sess.query(distinct(Measurement.station)).count()"
   ]
  },
  {
   "cell_type": "code",
   "execution_count": 15,
   "metadata": {},
   "outputs": [
    {
     "data": {
      "text/plain": [
       "[(14261, 'USC00519281', 2772, 54.0, 85.0, 71.66378066378067),\n",
       " (213, 'USC00519397', 2724, 56.0, 87.0, 74.55323054331865),\n",
       " (4412, 'USC00513117', 2709, 59.0, 85.0, 72.68918420081211),\n",
       " (12184, 'USC00519523', 2669, 56.0, 85.0, 74.5436493068565),\n",
       " (18245, 'USC00516128', 2612, 58.0, 84.0, 70.91500765696784),\n",
       " (7017, 'USC00514830', 2202, 58.0, 85.0, 74.8732970027248),\n",
       " (15210, 'USC00511918', 1979, 53.0, 87.0, 71.61596766043456),\n",
       " (8991, 'USC00517948', 1372, 58.0, 87.0, 74.68440233236151),\n",
       " (9190, 'USC00518838', 511, 58.0, 83.0, 72.72407045009784)]"
      ]
     },
     "execution_count": 15,
     "metadata": {},
     "output_type": "execute_result"
    }
   ],
   "source": [
    "# What are the most active stations? (i.e. what stations have the most rows)?\n",
    "# List the stations and the counts in descending order.\n",
    "most_active = sess.query(Measurement.id, Measurement.station, func.count(Measurement.tobs).label('count'), func.min(Measurement.tobs).label('minimumTemp'), func.max(Measurement.tobs).label('maximumTemp'), func.avg(Measurement.tobs).label('averageTemp')).group_by(Measurement.station).order_by(func.count(Measurement.tobs).desc()).all()\n",
    "most_active"
   ]
  },
  {
   "cell_type": "code",
   "execution_count": 16,
   "metadata": {},
   "outputs": [],
   "source": [
    "# Using the station id from the previous query, calculate the lowest temperature recorded, \n",
    "# highest temperature recorded, and average temperature most active station?\n",
    "station_id = [x.id for x in most_active]\n",
    "lowestTemp = [x.minimumTemp for x in most_active]\n",
    "highestTemp = [x.maximumTemp for x in most_active]\n",
    "avgTemp = [x.averageTemp for x in most_active]"
   ]
  },
  {
   "cell_type": "code",
   "execution_count": 17,
   "metadata": {},
   "outputs": [
    {
     "name": "stdout",
     "output_type": "stream",
     "text": [
      "The station: USC00519281 has the highest number of observations\n"
     ]
    }
   ],
   "source": [
    "most_observations = most_active[0]\n",
    "print(f\"The station: {most_observations.station} has the highest number of observations\")"
   ]
  },
  {
   "cell_type": "code",
   "execution_count": 18,
   "metadata": {},
   "outputs": [],
   "source": [
    "# Choose the station with the highest number of temperature observations.\n",
    "latest_observed_date = sess.query(Measurement).filter(Measurement.station==f'{most_observations.station}').order_by(Measurement.date.desc()).first()\n",
    "\n",
    "# Find the last 12 months of data start and end dates\n",
    "latest_observed_date = latest_observed_date.date\n",
    "latest_observed_date = pd.to_datetime(latest_observed_date, format='%Y-%m-%d')\n",
    "latest_observed_year = latest_observed_date - datetime.timedelta(days=365)\n",
    "\n",
    "latest_observed_year = latest_observed_year.strftime(\"%Y-%m-%d\")\n",
    "latest_observed_date = latest_observed_date.strftime(\"%Y-%m-%d\")\n",
    "\n",
    "# Query the last 12 months of temperature observation data for this station\n",
    "lastYear_mostActive = sess.query(Measurement).\\\n",
    "    filter(Measurement.station == most_observations.station).\\\n",
    "    filter(Measurement.date >= latest_observed_year).\\\n",
    "    order_by(Measurement.date).all()\n",
    "\n",
    "# Create dataframe from results\n",
    "station_id = [x.id for x in lastYear_mostActive]\n",
    "temps = [x.tobs for x in lastYear_mostActive]\n",
    "\n",
    "temp_df = pd.DataFrame({\"temperature\":temps})"
   ]
  },
  {
   "cell_type": "code",
   "execution_count": 19,
   "metadata": {},
   "outputs": [
    {
     "data": {
      "text/plain": [
       "<matplotlib.legend.Legend at 0x17e9a7a4588>"
      ]
     },
     "execution_count": 19,
     "metadata": {},
     "output_type": "execute_result"
    },
    {
     "data": {
      "image/png": "[encoded data removed]",
      "text/plain": [
       "<Figure size 504x360 with 1 Axes>"
      ]
     },
     "metadata": {
      "needs_background": "light"
     },
     "output_type": "display_data"
    }
   ],
   "source": [
    "#  Plot the results as a histogram\n",
    "temp_df.plot(kind='hist',bins=12, figsize=(7,5), fontsize=8)\n",
    "plt.ylabel(ylabel='Frequency',fontsize=12)\n",
    "plt.legend(fontsize=10)"
   ]
  },
  {
   "cell_type": "markdown",
   "metadata": {},
   "source": [
    "# Optional Challenge Assignment"
   ]
  },
  {
   "cell_type": "markdown",
   "metadata": {},
   "source": [
    "## Temperature Analysis"
   ]
  },
  {
   "cell_type": "code",
   "execution_count": 20,
   "metadata": {},
   "outputs": [
    {
     "name": "stdout",
     "output_type": "stream",
     "text": [
      "[(62.0, 69.57142857142857, 74.0)]\n"
     ]
    }
   ],
   "source": [
    "# This function called `calc_temps` will accept start date and end date in the format '%Y-%m-%d' \n",
    "# and return the minimum, average, and maximum temperatures for that range of dates\n",
    "def calc_temps(start_date, end_date):\n",
    "\n",
    "    return sess.query(func.min(Measurement.tobs), func.avg(Measurement.tobs), func.max(Measurement.tobs)).\\\n",
    "        filter(Measurement.date >= start_date).filter(Measurement.date <= end_date).all()\n",
    "\n",
    "# function usage example\n",
    "print(calc_temps('2012-02-28', '2012-03-05'))"
   ]
  },
  {
   "cell_type": "code",
   "execution_count": 21,
   "metadata": {},
   "outputs": [
    {
     "data": {
      "text/plain": [
       "('11-15', '11-23')"
      ]
     },
     "execution_count": 21,
     "metadata": {},
     "output_type": "execute_result"
    }
   ],
   "source": [
    "# Trip start date, end date\n",
    "try:\n",
    "    day1 = pd.to_datetime(trip_start_date, yearfirst=True).date()\n",
    "    day1 = day1.strftime(\"%m-%d\")\n",
    "    day2 = pd.to_datetime(trip_end_date, yearfirst=True).date()\n",
    "    day2 = day2.strftime(\"%m-%d\")\n",
    "    \n",
    "except:\n",
    "    day1 = trip_start_date\n",
    "    day2 = trip_end_date\n",
    "    \n",
    "day1, day2"
   ]
  },
  {
   "cell_type": "code",
   "execution_count": 22,
   "metadata": {},
   "outputs": [],
   "source": [
    "# Find latest matching dates for the trip start and end dates\n",
    "latest_observed_date_1 = sess.query(Measurement.date).filter(Measurement.date.like(f'%-{day1}')).\\\n",
    "    order_by(Measurement.date.desc()).first()\n",
    "latest_observed_date_2 = sess.query(Measurement.date).filter(Measurement.date.like(f'%-{day2}')).\\\n",
    "    order_by(Measurement.date.desc()).first()"
   ]
  },
  {
   "cell_type": "code",
   "execution_count": 23,
   "metadata": {},
   "outputs": [],
   "source": [
    "# Use function `calc_temps` to calculate the tmin, tavg, and tmax \n",
    "# for the trip using the previous year's data for those same dates.\n",
    "tripTemps = calc_temps(latest_observed_date_1[0],latest_observed_date_2[0])"
   ]
  },
  {
   "cell_type": "code",
   "execution_count": 24,
   "metadata": {},
   "outputs": [
    {
     "data": {
      "text/plain": [
       "Text(0.5, 1.0, 'Trip AVG Temp')"
      ]
     },
     "execution_count": 24,
     "metadata": {},
     "output_type": "execute_result"
    },
    {
     "data": {
      "image/png": "[encoded data removed]",
      "text/plain": [
       "<Figure size 216x432 with 1 Axes>"
      ]
     },
     "metadata": {
      "needs_background": "light"
     },
     "output_type": "display_data"
    }
   ],
   "source": [
    "# Plot the results from your previous query as a bar chart. \n",
    "fig, ax = plt.subplots(figsize=(3,6))\n",
    "ax.bar(.25, height=tripTemps[0][1], width = .3, yerr=(tripTemps[0][2]-tripTemps[0][0]), color='r', alpha = .25)\n",
    "ax.set_xticks([0,.5])\n",
    "plt.ylabel(ylabel='Temp (F)', fontsize=12)\n",
    "\n",
    "plt.tick_params(labelbottom=False, labelsize=10)\n",
    "ax.set_title(\"Trip AVG Temp\")"
   ]
  },
  {
   "cell_type": "code",
   "execution_count": 25,
   "metadata": {},
   "outputs": [
    {
     "data": {
      "text/html": [
       "<div>\n",
       "<style scoped>\n",
       "    .dataframe tbody tr th:only-of-type {\n",
       "        vertical-align: middle;\n",
       "    }\n",
       "\n",
       "    .dataframe tbody tr th {\n",
       "        vertical-align: top;\n",
       "    }\n",
       "\n",
       "    .dataframe thead th {\n",
       "        text-align: right;\n",
       "    }\n",
       "</style>\n",
       "<table border=\"1\" class=\"dataframe\">\n",
       "  <thead>\n",
       "    <tr style=\"text-align: right;\">\n",
       "      <th></th>\n",
       "      <th>station</th>\n",
       "      <th>name</th>\n",
       "      <th>latitude</th>\n",
       "      <th>longitude</th>\n",
       "      <th>elevation</th>\n",
       "      <th>total_rain</th>\n",
       "    </tr>\n",
       "  </thead>\n",
       "  <tbody>\n",
       "    <tr>\n",
       "      <th>0</th>\n",
       "      <td>USC00516128</td>\n",
       "      <td>MANOA LYON ARBO 785.2, HI US</td>\n",
       "      <td>21.33310</td>\n",
       "      <td>-157.80250</td>\n",
       "      <td>152.4</td>\n",
       "      <td>152.80</td>\n",
       "    </tr>\n",
       "    <tr>\n",
       "      <th>1</th>\n",
       "      <td>USC00519281</td>\n",
       "      <td>WAIHEE 837.5, HI US</td>\n",
       "      <td>21.45167</td>\n",
       "      <td>-157.84889</td>\n",
       "      <td>32.9</td>\n",
       "      <td>72.87</td>\n",
       "    </tr>\n",
       "    <tr>\n",
       "      <th>2</th>\n",
       "      <td>USC00513117</td>\n",
       "      <td>KANEOHE 838.1, HI US</td>\n",
       "      <td>21.42340</td>\n",
       "      <td>-157.80150</td>\n",
       "      <td>14.6</td>\n",
       "      <td>49.94</td>\n",
       "    </tr>\n",
       "    <tr>\n",
       "      <th>3</th>\n",
       "      <td>USC00519523</td>\n",
       "      <td>WAIMANALO EXPERIMENTAL FARM, HI US</td>\n",
       "      <td>21.33556</td>\n",
       "      <td>-157.71139</td>\n",
       "      <td>19.5</td>\n",
       "      <td>38.82</td>\n",
       "    </tr>\n",
       "    <tr>\n",
       "      <th>4</th>\n",
       "      <td>USC00514830</td>\n",
       "      <td>KUALOA RANCH HEADQUARTERS 886.9, HI US</td>\n",
       "      <td>21.52130</td>\n",
       "      <td>-157.83740</td>\n",
       "      <td>7.0</td>\n",
       "      <td>33.32</td>\n",
       "    </tr>\n",
       "    <tr>\n",
       "      <th>5</th>\n",
       "      <td>USC00519397</td>\n",
       "      <td>WAIKIKI 717.2, HI US</td>\n",
       "      <td>21.27160</td>\n",
       "      <td>-157.81680</td>\n",
       "      <td>3.0</td>\n",
       "      <td>16.65</td>\n",
       "    </tr>\n",
       "    <tr>\n",
       "      <th>6</th>\n",
       "      <td>USC00517948</td>\n",
       "      <td>PEARL CITY, HI US</td>\n",
       "      <td>21.39340</td>\n",
       "      <td>-157.97510</td>\n",
       "      <td>11.9</td>\n",
       "      <td>4.59</td>\n",
       "    </tr>\n",
       "  </tbody>\n",
       "</table>\n",
       "</div>"
      ],
      "text/plain": [
       "       station                                    name  latitude  longitude  \\\n",
       "0  USC00516128            MANOA LYON ARBO 785.2, HI US  21.33310 -157.80250   \n",
       "1  USC00519281                     WAIHEE 837.5, HI US  21.45167 -157.84889   \n",
       "2  USC00513117                    KANEOHE 838.1, HI US  21.42340 -157.80150   \n",
       "3  USC00519523      WAIMANALO EXPERIMENTAL FARM, HI US  21.33556 -157.71139   \n",
       "4  USC00514830  KUALOA RANCH HEADQUARTERS 886.9, HI US  21.52130 -157.83740   \n",
       "5  USC00519397                    WAIKIKI 717.2, HI US  21.27160 -157.81680   \n",
       "6  USC00517948                       PEARL CITY, HI US  21.39340 -157.97510   \n",
       "\n",
       "   elevation  total_rain  \n",
       "0      152.4      152.80  \n",
       "1       32.9       72.87  \n",
       "2       14.6       49.94  \n",
       "3       19.5       38.82  \n",
       "4        7.0       33.32  \n",
       "5        3.0       16.65  \n",
       "6       11.9        4.59  "
      ]
     },
     "execution_count": 25,
     "metadata": {},
     "output_type": "execute_result"
    }
   ],
   "source": [
    "# Calculate the total amount of rainfall per weather station for your trip dates using the previous year's matching dates.\n",
    "# Sort this in descending order by precipitation amount and list the station, name, latitude, longitude, and elevation\n",
    "\n",
    "sel = [Measurement.station, Station.name, Station.latitude, Station.longitude, Station.elevation, func.sum(Measurement.prcp).label('total_rain')]\n",
    "most_rain = sess.query(*sel).filter(Measurement.date >= latest_observed_year).\\\n",
    "    filter(Measurement.station == Station.station).\\\n",
    "    order_by(func.sum(Measurement.prcp).desc()).\\\n",
    "    group_by(Measurement.station).all()\n",
    "most_rain_df = pd.DataFrame(most_rain)\n",
    "most_rain_df"
   ]
  },
  {
   "cell_type": "markdown",
   "metadata": {},
   "source": [
    "## Daily Rainfall Average"
   ]
  },
  {
   "cell_type": "code",
   "execution_count": 26,
   "metadata": {},
   "outputs": [
    {
     "data": {
      "text/plain": [
       "[(64.0, 72.2, 80.0)]"
      ]
     },
     "execution_count": 26,
     "metadata": {},
     "output_type": "execute_result"
    }
   ],
   "source": [
    "# Create a query that will calculate the daily normals \n",
    "# (i.e. the averages for tmin, tmax, and tavg for all historic data matching a specific month and day)\n",
    "def daily_norms(dt):\n",
    "\n",
    "    sel = [func.min(Measurement.tobs), func.avg(Measurement.tobs), func.max(Measurement.tobs)]\n",
    "    v = sess.query(*sel).filter(Measurement.date.like(f\"%-{dt}\")).all()\n",
    "    return v\n",
    "\n",
    "daily_norms(\"11-23\")"
   ]
  },
  {
   "cell_type": "code",
   "execution_count": 27,
   "metadata": {},
   "outputs": [],
   "source": [
    "# Calculate the daily normals for your trip\n",
    "# push each tuple of calculations into a list called `normals`\n",
    "\n",
    "today = pd.to_datetime('today')\n",
    "\n",
    "# Use the start and end date to create a range of dates:\n",
    "# Use next year if trip over by today, this year is trip yet to happen\n",
    "try:\n",
    "    pd.to_datetime(start_date, yearfirst=True).date()\n",
    "    day1 = trip_start_date\n",
    "    day2 = trip_end_date\n",
    "    \n",
    "except:\n",
    "    if int(trip_end_date[0:1]) > today.month and int(end_date[3:4]) > today.day:\n",
    "        day1 = \"2019-\" + trip_start_date\n",
    "        day2 = \"2019-\" + trip_end_date\n",
    "    else:\n",
    "        day1 = \"2020-\" + trip_start_date\n",
    "        day2 = \"2020-\" + trip_end_date\n",
    "\n",
    "day1 = pd.to_datetime(trip_start_date, yearfirst=True).date()\n",
    "day2 = pd.to_datetime(trip_end_date, yearfirst=True).date()\n",
    "\n",
    "days = np.arange(day1, day2 + datetime.timedelta(days=1), datetime.timedelta(days=1))\n",
    "days = [pd.to_datetime(x) for x in days]\n",
    "\n",
    "# Stip off the year and save a list of %m-%d strings\n",
    "day_span = [x.strftime(\"%m-%d\") for x in days]\n",
    "dates = [x.strftime(\"%Y-%m-%d\") for x in days]\n",
    "\n",
    "# Loop through the list of %m-%d strings and calculate the normals for each date\n",
    "lws = []\n",
    "avs = []\n",
    "hgs = []\n",
    "for x in day_span:\n",
    "#     print(daily_norms(x))\n",
    "    lws.append(daily_norms(x)[0][0])\n",
    "    avs.append(daily_norms(x)[0][1])\n",
    "    hgs.append(daily_norms(x)[0][2])\n",
    "avs = [round(x, 2) for x in avs]"
   ]
  },
  {
   "cell_type": "code",
   "execution_count": 28,
   "metadata": {},
   "outputs": [],
   "source": [
    "# Load the previous query results into a Pandas DataFrame and add the `trip_dates` range as the `date` index\n",
    "trip_temps_df = pd.DataFrame({\"date\":dates, \"TMIN\":lws, \"TAVG\":avs, \"TMAX\":hgs})\n",
    "trip_temps_df = trip_temps_df.set_index(\"date\")"
   ]
  },
  {
   "cell_type": "code",
   "execution_count": 29,
   "metadata": {},
   "outputs": [
    {
     "data": {
      "text/plain": [
       "Text(0.5, 1.0, 'Daily Normals During Trip')"
      ]
     },
     "execution_count": 29,
     "metadata": {},
     "output_type": "execute_result"
    },
    {
     "data": {
      "image/png": "[encoded data removed]",
      "text/plain": [
       "<Figure size 720x576 with 1 Axes>"
      ]
     },
     "metadata": {
      "needs_background": "light"
     },
     "output_type": "display_data"
    }
   ],
   "source": [
    "# Plot the daily normals as an area plot with `stacked=False`\n",
    "xticks = [x for x in range(0, len(trip_temps_df.index))]\n",
    "\n",
    "trip_temps_df.plot.area(stacked=False, alpha = .25, figsize=(10,8))\n",
    "plt.xticks(ticks=xticks, labels = dates, rotation=45)\n",
    "plt.title(\"Daily Normals During Trip\", fontsize=16, pad=12)"
   ]
  }
 ],
 "metadata": {
  "kernelspec": {
   "display_name": "Python 3",
   "language": "python",
   "name": "python3"
  },
  "language_info": {
   "codemirror_mode": {
    "name": "ipython",
    "version": 3
   },
   "file_extension": ".py",
   "mimetype": "text/x-python",
   "name": "python",
   "nbconvert_exporter": "python",
   "pygments_lexer": "ipython3",
   "version": "3.6.7"
  }
 },
 "nbformat": 4,
 "nbformat_minor": 2
}
